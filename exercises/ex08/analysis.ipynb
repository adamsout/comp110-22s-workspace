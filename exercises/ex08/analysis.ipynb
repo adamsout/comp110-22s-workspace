{
 "cells": [
  {
   "cell_type": "markdown",
   "metadata": {},
   "source": [
    "# Analysis for Continuous Improvement\n",
    "\n",
    "Author Name: Adam Souter\n",
    "\n",
    "9-digit PID: 730392844\n",
    "\n",
    "Continuous Improvement embraces a belief there is _always room to make things better_. It is a mindset and process we value and practice in this course. In this assignment, you are able to practice continuous improvement and contribute to the design ideas of the course.\n",
    "\n",
    "## Brainstorming Ideas\n",
    "\n",
    "Reflect on your personal experiences and observations in COMP110 and **brainstorm modifications to the course that _create value_ beyond its current design**. When brainstorming, try not to be critical of the ideas you come up with regarding scale, stakeholders impacted, or for any other reasons. In the markdown cell below, brainstorm 3 to 5 ideas you think would create value for you.\n",
    "\n",
    "Each brainstormed idea should state a. the suggested change or addition, b. what the expected value created, and c. which specific stakeholders would benefit.  If helpful, expand on the following template \"The course should (state idea here) because it will (state value created here) for (insert stakeholders here).\"\n",
    "\n",
    "Example A: \"The course should use only examples from psychology experiments because it will be more relevant for students who are psychology majors.\"\n",
    "\n",
    "Example B: \"The course should not have post-lesson questions because they are not useful for most students in the class.\""
   ]
  },
  {
   "cell_type": "markdown",
   "metadata": {},
   "source": [
    "### Part 1. Creative Ideation\n",
    "\n",
    "1. The course should have more examples of code because it can allow for the students of the course to see actual code run and produce what is needed.\n",
    "2. The course should provide a written out script of the notes from the videos or written out explanantions for every lesson so students can have multiple ways to absorb the information from the course. \n",
    "3. The course should have make the reading assignments optional or just tell the students about the articles because while they are relevant, they do not seem crucial to the material of the class for the students.\n",
    "4. The course should have a group project to encourage collaborative learning for students who learn better in groups.\n",
    "5. The course should provide more supplemental learning information for students who may not get the concepts when watching the videos and during class and they are unable to make it tutoring."
   ]
  },
  {
   "cell_type": "markdown",
   "metadata": {},
   "source": [
    "## Connecting with Available Data\n",
    "\n",
    "The data you have available for this analysis is limited to the anonymized course survey you and your peers filled out a few weeks ago. The data is found in the `survey.csv` file in this exercise directory. Each row represents an individual survey response. Each column has a description which can be found on the project write-up here: <https://22s.comp110.com/exercises/ex08.html>\n",
    "\n",
    "Review the list of available data and identify which one of your ideas _does not_, or is _least likely to_, have relevant data to support the analysis of your idea to create value. In the box below, identify which of your ideas lacks data and suggest how we might be able to collect this data in the future. One aspect of _continuous improvement_ is trying to avoid \"tunnel vision\" where possible improvements are not considered because there is no data available to analyze it. Identifying new data sources can unlock improvements!"
   ]
  },
  {
   "cell_type": "markdown",
   "metadata": {},
   "source": [
    "### Part 2. Identifying Missing Data\n",
    "\n",
    "1. Idea without sufficient data to analyze: 3. The course should make the reading assignments optional or just tell the students about the articles because while they are relevant, they do not seem crucial to the material of the class for the students.\n",
    "\n",
    "2. Suggestion for how to collect data to support this idea in the future: Assign a reading assignment before the survey and ask the students a question about how effective they feel the reading was to their learning/understanding of computer science."
   ]
  },
  {
   "cell_type": "markdown",
   "metadata": {},
   "source": [
    "## Choosing an Idea to Analyze\n",
    "\n",
    "Consider those of your ideas which _do_ seem likely to have relevant data to analyze. If none of your ideas do, spend a few minutes and brainstorm another idea or two with the added connection of data available on hand and add those ideas to your brainstormed ideas list.\n",
    "\n",
    "Select the one idea which you believe is _most valuable_ to analyze relative to the others and has data to support the analysis of. In the markdown cell for Part 3 below, identify the idea you are exploring and articulate why you believe it is most valuable (e.g. widest impact, biggest opportunity for improvement, simplest change for significant improvement, and so on)."
   ]
  },
  {
   "cell_type": "markdown",
   "metadata": {},
   "source": [
    "### Part 3. Choosing Your Analysis\n",
    "\n",
    "1. Idea to analyze with available data: 2. The course should provide a written out script of the notes from the videos or written out explanantions for every lesson so students can have multiple ways to absorb the information from the course. \n",
    "\n",
    "2. This idea is more valuable than the others brainstormed because: I chose this idea because I believe there can be relevant data to analyze to try and see if this will be a valuable addition to the course, as well as it being an easy fix that can have a big impact on how students are able to intake information from the course.\n"
   ]
  },
  {
   "cell_type": "markdown",
   "metadata": {},
   "source": [
    "## Your Analysis\n",
    "\n",
    "Before you begin analysis, a reminder that we do not expect the data to support everyone's ideas and you can complete this exercise for full credit even if the data does not clearly support your suggestion or even completely refutes it. What we are looking for is a logical attempt to explore the data using the techniques you have learned up until now in a way that _either_ supports, refutes, or does not have a clear result and then to reflect on your findings after the analysis.\n",
    "\n",
    "Using the utility functions you created for the previous exercise, you will continue with your analysis in the following part. Before you begin, refer to the rubric on the technical expectations of this section in the exercise write-up.\n",
    "\n",
    "In this section, you are expected to interleave code and markdown cells such that for each step of your analysis you are starting with an English description of what you are planning to do next in a markdown cell, followed by a Python cell that performs that step of the analysis."
   ]
  },
  {
   "cell_type": "markdown",
   "metadata": {},
   "source": [
    "### Part 4. Analysis\n",
    "\n",
    "We begin by changing some settings in the notebook to automatically reload changes to imported files."
   ]
  },
  {
   "cell_type": "code",
   "execution_count": 2,
   "metadata": {},
   "outputs": [],
   "source": [
    "%reload_ext autoreload\n",
    "%autoreload 2"
   ]
  },
  {
   "cell_type": "markdown",
   "metadata": {},
   "source": [
    "We continue by importing the helper functions from `data_utils`."
   ]
  },
  {
   "cell_type": "code",
   "execution_count": 71,
   "metadata": {},
   "outputs": [],
   "source": [
    "from data_utils import read_csv_rows, head, columnar, select, count, sorts\n",
    "from tabulate import tabulate"
   ]
  },
  {
   "cell_type": "markdown",
   "metadata": {},
   "source": [
    "Next, ... (you take it from here and add additional code and markdown cells to read in the CSV file and process it as needed)"
   ]
  },
  {
   "cell_type": "markdown",
   "metadata": {},
   "source": [
    "_____________________________________________________________________________________________________________________"
   ]
  },
  {
   "cell_type": "markdown",
   "metadata": {},
   "source": [
    "Importing the data and printing the column names so I am able to read them easier and now what kind of data I am going to be using."
   ]
  },
  {
   "cell_type": "code",
   "execution_count": 11,
   "metadata": {},
   "outputs": [
    {
     "name": "stdout",
     "output_type": "stream",
     "text": [
      "Columns names: dict_keys(['row', 'year', 'unc_status', 'comp_major', 'primary_major', 'data_science', 'prereqs', 'prior_exp', 'ap_principles', 'ap_a', 'other_comp', 'prior_time', 'languages', 'hours_online_social', 'hours_online_work', 'lesson_time', 'sync_perf', 'all_sync', 'flipped_class', 'no_hybrid', 'own_notes', 'own_examples', 'oh_visits', 'ls_effective', 'lsqs_effective', 'programming_effective', 'qz_effective', 'oh_effective', 'tutoring_effective', 'pace', 'difficulty', 'understanding', 'interesting', 'valuable', 'would_recommend'])\n"
     ]
    }
   ],
   "source": [
    "SURVEY_DATA_CSV_FILE_PATH: str = \"../../data/survey.csv\"\n",
    "\n",
    "survey_rows: list[dict[str, str]] = read_csv_rows(SURVEY_DATA_CSV_FILE_PATH)\n",
    "print(f\"Columns names: {survey_rows[0].keys()}\")"
   ]
  },
  {
   "cell_type": "markdown",
   "metadata": {},
   "source": [
    "Converting the survey into a table and then looking at the data in the form of a table. Only looking at the columns that I believe are relavent and the first few rows to save space."
   ]
  },
  {
   "cell_type": "code",
   "execution_count": 32,
   "metadata": {},
   "outputs": [
    {
     "data": {
      "text/html": [
       "<table>\n",
       "<thead>\n",
       "<tr><th style=\"text-align: right;\">  own_notes</th><th style=\"text-align: right;\">  ls_effective</th><th style=\"text-align: right;\">  lsqs_effective</th><th>tutoring_effective  </th></tr>\n",
       "</thead>\n",
       "<tbody>\n",
       "<tr><td style=\"text-align: right;\">          4</td><td style=\"text-align: right;\">             7</td><td style=\"text-align: right;\">               3</td><td>                    </td></tr>\n",
       "<tr><td style=\"text-align: right;\">          6</td><td style=\"text-align: right;\">             5</td><td style=\"text-align: right;\">               5</td><td>6                   </td></tr>\n",
       "<tr><td style=\"text-align: right;\">          7</td><td style=\"text-align: right;\">             5</td><td style=\"text-align: right;\">               6</td><td>                    </td></tr>\n",
       "</tbody>\n",
       "</table>"
      ],
      "text/plain": [
       "'<table>\\n<thead>\\n<tr><th style=\"text-align: right;\">  own_notes</th><th style=\"text-align: right;\">  ls_effective</th><th style=\"text-align: right;\">  lsqs_effective</th><th>tutoring_effective  </th></tr>\\n</thead>\\n<tbody>\\n<tr><td style=\"text-align: right;\">          4</td><td style=\"text-align: right;\">             7</td><td style=\"text-align: right;\">               3</td><td>                    </td></tr>\\n<tr><td style=\"text-align: right;\">          6</td><td style=\"text-align: right;\">             5</td><td style=\"text-align: right;\">               5</td><td>6                   </td></tr>\\n<tr><td style=\"text-align: right;\">          7</td><td style=\"text-align: right;\">             5</td><td style=\"text-align: right;\">               6</td><td>                    </td></tr>\\n</tbody>\\n</table>'"
      ]
     },
     "execution_count": 32,
     "metadata": {},
     "output_type": "execute_result"
    }
   ],
   "source": [
    "survey_cols: dict[str, list[str]] = columnar(survey_rows)\n",
    "selected_data: dict[str, list[str]] = select(survey_cols, [\"own_notes\", \"ls_effective\", \"lsqs_effective\", \"tutoring_effective\"])\n",
    "survey_cols_head: dict[str, list[str]] = head(selected_data, 3)\n",
    "tabulate(survey_cols_head, survey_cols_head.keys(), \"html\")"
   ]
  },
  {
   "cell_type": "markdown",
   "metadata": {},
   "source": [
    "Count the rankings every student gives each of the columns."
   ]
  },
  {
   "cell_type": "code",
   "execution_count": 65,
   "metadata": {},
   "outputs": [
    {
     "name": "stdout",
     "output_type": "stream",
     "text": [
      "own_notes_counts: {'4': 57, '6': 129, '7': 276, '5': 86, '3': 39, '1': 15, '2': 18}\n",
      "ls_effective_counts: {'7': 257, '5': 120, '6': 154, '4': 46, '1': 8, '3': 28, '2': 7}\n",
      "lsqs_effective_counts: {'3': 39, '5': 156, '6': 165, '7': 158, '4': 74, '1': 8, '2': 20}\n",
      "tutoring_effective_counts: {'': 365, '6': 40, '4': 92, '3': 11, '7': 62, '5': 44, '1': 3, '2': 3}\n"
     ]
    }
   ],
   "source": [
    "own_notes_count: dict[str, int] = count(selected_data[\"own_notes\"])\n",
    "print(f\"own_notes_counts: {own_notes_count}\")\n",
    "\n",
    "ls_effective_count: dict[str, int] = count(selected_data[\"ls_effective\"])\n",
    "print(f\"ls_effective_counts: {ls_effective_count}\")\n",
    "\n",
    "lsqs_effective_count: dict[str, int] = count(selected_data[\"lsqs_effective\"])\n",
    "print(f\"lsqs_effective_counts: {lsqs_effective_count}\")\n",
    "\n",
    "tutoring_effective_count: dict[str, int] = count(selected_data[\"tutoring_effective\"])\n",
    "print(f\"tutoring_effective_counts: {tutoring_effective_count}\")"
   ]
  },
  {
   "cell_type": "markdown",
   "metadata": {},
   "source": [
    "Sorting the data so it goes from \"\" to \"7\" so the graphs are more logical."
   ]
  },
  {
   "cell_type": "code",
   "execution_count": 69,
   "metadata": {},
   "outputs": [
    {
     "name": "stdout",
     "output_type": "stream",
     "text": [
      "Sorted Own Notes Data: {'1': 15, '2': 18, '3': 39, '4': 57, '5': 86, '6': 129, '7': 276}\n",
      "Sorted Own Notes Data: {'1': 8, '2': 7, '3': 28, '4': 46, '5': 120, '6': 154, '7': 257}\n",
      "Sorted Own Notes Data: {'1': 8, '2': 20, '3': 39, '4': 74, '5': 156, '6': 165, '7': 158}\n",
      "Sorted Tutoring Effective Data: {'': 365, '1': 3, '2': 3, '3': 11, '4': 92, '5': 44, '6': 40, '7': 62}\n"
     ]
    }
   ],
   "source": [
    "from data_utils import sorts\n",
    "sorted_notes: dict[str, int] = sorts(own_notes_count)\n",
    "print(f\"Sorted Own Notes Data: {sorted_notes}\")\n",
    "\n",
    "sorted_ls: dict[str, int] = sorts(ls_effective_count)\n",
    "print(f\"Sorted Own Notes Data: {sorted_ls}\")\n",
    "\n",
    "sorted_lsqs: dict[str, int] = sorts(lsqs_effective_count)\n",
    "print(f\"Sorted Own Notes Data: {sorted_lsqs}\")\n",
    "\n",
    "sorted_tutoring: dict[str, int] = sorts(tutoring_effective_count)\n",
    "print(f\"Sorted Tutoring Effective Data: {sorted_tutoring}\")\n"
   ]
  },
  {
   "cell_type": "markdown",
   "metadata": {},
   "source": [
    "Making graphs to display this data."
   ]
  },
  {
   "cell_type": "code",
   "execution_count": 70,
   "metadata": {},
   "outputs": [
    {
     "data": {
      "text/plain": [
       "<BarContainer object of 8 artists>"
      ]
     },
     "execution_count": 70,
     "metadata": {},
     "output_type": "execute_result"
    },
    {
     "data": {
      "image/png": "[encoded data removed]",
      "text/plain": [
       "<Figure size 864x360 with 2 Axes>"
      ]
     },
     "metadata": {
      "needs_background": "light"
     },
     "output_type": "display_data"
    },
    {
     "data": {
      "image/png": "[encoded data removed]",
      "text/plain": [
       "<Figure size 864x360 with 2 Axes>"
      ]
     },
     "metadata": {
      "needs_background": "light"
     },
     "output_type": "display_data"
    }
   ],
   "source": [
    "from matplotlib import pyplot as plt\n",
    "\n",
    "fig, axes = plt.subplots(1, 2, figsize=(12, 5), sharey=True)\n",
    "fig.suptitle(\"How Effective Students Think Lessons and Lesson Questions Are, as Well as How Often Students Keep Their Own Notes and Visit Tutoring\")\n",
    "\n",
    "\n",
    "axes[0].set_title(\"How Effective are Lessons?\")\n",
    "axes[0].bar(sorted_ls.keys(), sorted_ls.values())\n",
    "axes[0].tick_params(axis='x', labelrotation = 45)\n",
    "\n",
    "\n",
    "axes[1].set_title(\"How Effective are Lessons Questions?\")\n",
    "axes[1].bar(sorted_lsqs.keys(), sorted_lsqs.values())\n",
    "\n",
    "fig, axes = plt.subplots(1, 2, figsize=(12, 5), sharey=True)\n",
    "\n",
    "axes[0].set_title(\"Do You Take Your Own Notes?\")\n",
    "axes[0].bar(sorted_notes.keys(), sorted_notes.values())\n",
    "axes[0].tick_params(axis='x', labelrotation = 45)\n",
    "\n",
    "axes[1].set_title(\"How Effective is Tutoring?\")\n",
    "axes[1].bar(sorted_tutoring.keys(), sorted_tutoring.values())"
   ]
  },
  {
   "cell_type": "markdown",
   "metadata": {},
   "source": [
    "## Conclusion\n",
    "\n",
    "In the following markdown cell, write a reflective conclusion given the analysis you performed and identify recommendations.\n",
    "\n",
    "If your analysis of the data supports your idea, state your recommendation for the change and summarize the data analysys results you found which support it. Additionally, describe any extensions or refinements to this idea which might be explored further. Finally, discuss the potential costs, trade-offs, or stakeholders who may be negatively impacted by this proposed change.\n",
    "\n",
    "If your analysis of the data is inconclusive, summarize why your data analysis results were inconclusive in the support of your idea. Additionally, describe what experimental idea implementation or additional data collection might help build more confidence in assessing your idea. Finally, discuss the potential costs, trade-offs, or stakeholders who may be negatively impacted by experimenting with your idea.\n",
    "\n",
    "Finally, if your analysis of the data does not support it, summarize your data analysis results and why it refutes your idea. Discuss the potential costs, trade-offs, or stakeholders who may be negatively impacted by this proposed change. If you disagree with the validity of the findings, describe why your idea still makes sense to implement and what alternative data would better support it. If you agree with the validity of the data analysis, describe what alternate ideas or extensions you would explore instead. "
   ]
  },
  {
   "cell_type": "markdown",
   "metadata": {},
   "source": [
    "### Part 5. Conclusion\n",
    "\n"
   ]
  },
  {
   "cell_type": "markdown",
   "metadata": {},
   "source": [
    "For my analysis, I proposed that for every video lesson there should also be a wrtie-up of some sort released. These write-ups should include written explanations of the topics coverd in the videos for students who may not absorb information with videos as well. Personally, I appreciate written explanations as well as video explanations with new material I am learning. \n",
    "\n",
    "I chose to analyze the `own_notes`, `ls_effective`, `lsqs_effective`, and `tutoring effective` data columns for my proposed idea. With these data sets, I hoped to gain knowledge on whether or not students of COMP 110 thought the asynchronous videos were an effective tool in helping them learn. At the time this survey was given, I observed that most students were taking their own notes most of the time, a majority of the students found the lessons and lesson questions effective, and a majority of the students have not attended tutoring. \n",
    "\n",
    "While these statements do not necessarily agree with my proposition, I do not think it rejects my proposition. This data appears inconclusive because we do not explicitly ask students their preferred way of asynchronous learning. The students that want to take notes are taking notes from the videos and lessons and are finding it beneficial, but who is to say that a set written explanantions will not further their learning experience? To help solve this, asking another question within the survey along the lines of, \"For asynchronous video lectures, how beneficial would also including written explanations of the covered topics be to your learning experience?\" This question should give us the exact answer we are looking for and whether or not the proposition will truly be helpful.\n",
    "\n",
    "This proposition is mostly beneficial to the students in COMP 110, but what about the effects on everyone else? The only extra cost this idea has is time. It would take more time preparing lessons on a week-to-week basis. From what I have observed after being enrolled in the course for this long into the semester, most of the video lectures are made from previous semesters. The same process could be followed for the write-ups. While it may take some time upfront, unless the curriculum of the classes changes, the professor could continue to use these write-ups for the semesters to come. To help lessen the work load, the professor could give TAs a list of important topics that must be covered for respective lessons and the TAs could create the write-ups and send them back to the professor for review before being given to the class.\n",
    "\n",
    "The proposition of providing written explanations along with video lectures during asynchronous classes could provide students with a more conducive COMP 110 learning experience. Not only will students be rewarded, but the professor and TAs could also reap the rewards of the implementation of this by seeing an increase in understanding and performance on the covered material. While the data provided may seem like students are okay with the current format, it does not hurt to ask."
   ]
  }
 ],
 "metadata": {
  "interpreter": {
   "hash": "aee8b7b246df8f9039afb4144a1f6fd8d2ca17a180786b69acc140d282b71a49"
  },
  "kernelspec": {
   "display_name": "Python 3.10.2 64-bit",
   "language": "python",
   "name": "python3"
  },
  "language_info": {
   "codemirror_mode": {
    "name": "ipython",
    "version": 3
   },
   "file_extension": ".py",
   "mimetype": "text/x-python",
   "name": "python",
   "nbconvert_exporter": "python",
   "pygments_lexer": "ipython3",
   "version": "3.10.1"
  },
  "orig_nbformat": 4
 },
 "nbformat": 4,
 "nbformat_minor": 2
}
